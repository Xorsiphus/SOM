{
 "cells": [
  {
   "cell_type": "code",
   "execution_count": 38,
   "metadata": {
    "pycharm": {
     "name": "#%%\n"
    },
    "scrolled": true
   },
   "outputs": [],
   "source": [
    "import pandas as pd\n",
    "import matplotlib.pyplot as plt\n",
    "import seaborn as sns\n",
    "from sklearn.ensemble import RandomForestClassifier\n",
    "from sklearn.linear_model import LogisticRegression, LinearRegression\n",
    "from sklearn.preprocessing import LabelEncoder, MinMaxScaler, PolynomialFeatures, StandardScaler\n",
    "\n",
    "from sklearn.neighbors import KNeighborsClassifier\n",
    "from sklearn.model_selection import train_test_split\n",
    "from sklearn.metrics import roc_auc_score, roc_curve\n",
    "from sklearn.tree import DecisionTreeClassifier\n",
    "import numpy as np\n"
   ]
  },
  {
   "cell_type": "code",
   "execution_count": 88,
   "metadata": {
    "pycharm": {
     "name": "#%%\n"
    }
   },
   "outputs": [],
   "source": [
    "train = pd.read_csv(\"train.csv\")\n",
    "test = pd.read_csv(\"test.csv\")"
   ]
  },
  {
   "cell_type": "code",
   "execution_count": 5,
   "outputs": [
    {
     "data": {
      "text/plain": "       id  Gender  Age  Driving_License  Region_Code  Previously_Insured  \\\n0  213892    Male   48                1         35.0                   1   \n1  269011    Male   58                1         28.0                   0   \n2   31464    Male   44                1         28.0                   1   \n3   86379  Female   22                1          8.0                   0   \n4  456843    Male   24                1          6.0                   1   \n\n  Vehicle_Age Vehicle_Damage  Annual_Premium  Policy_Sales_Channel  Vintage  \\\n0    1-2 Year             No         24922.0                  26.0       86   \n1    1-2 Year            Yes         63541.0                  26.0       57   \n2    1-2 Year             No         30027.0                  26.0      286   \n3    < 1 Year            Yes         35039.0                 152.0      180   \n4    < 1 Year             No         24149.0                 152.0       17   \n\n   Response  \n0         0  \n1         0  \n2         0  \n3         0  \n4         0  ",
      "text/html": "<div>\n<style scoped>\n    .dataframe tbody tr th:only-of-type {\n        vertical-align: middle;\n    }\n\n    .dataframe tbody tr th {\n        vertical-align: top;\n    }\n\n    .dataframe thead th {\n        text-align: right;\n    }\n</style>\n<table border=\"1\" class=\"dataframe\">\n  <thead>\n    <tr style=\"text-align: right;\">\n      <th></th>\n      <th>id</th>\n      <th>Gender</th>\n      <th>Age</th>\n      <th>Driving_License</th>\n      <th>Region_Code</th>\n      <th>Previously_Insured</th>\n      <th>Vehicle_Age</th>\n      <th>Vehicle_Damage</th>\n      <th>Annual_Premium</th>\n      <th>Policy_Sales_Channel</th>\n      <th>Vintage</th>\n      <th>Response</th>\n    </tr>\n  </thead>\n  <tbody>\n    <tr>\n      <th>0</th>\n      <td>213892</td>\n      <td>Male</td>\n      <td>48</td>\n      <td>1</td>\n      <td>35.0</td>\n      <td>1</td>\n      <td>1-2 Year</td>\n      <td>No</td>\n      <td>24922.0</td>\n      <td>26.0</td>\n      <td>86</td>\n      <td>0</td>\n    </tr>\n    <tr>\n      <th>1</th>\n      <td>269011</td>\n      <td>Male</td>\n      <td>58</td>\n      <td>1</td>\n      <td>28.0</td>\n      <td>0</td>\n      <td>1-2 Year</td>\n      <td>Yes</td>\n      <td>63541.0</td>\n      <td>26.0</td>\n      <td>57</td>\n      <td>0</td>\n    </tr>\n    <tr>\n      <th>2</th>\n      <td>31464</td>\n      <td>Male</td>\n      <td>44</td>\n      <td>1</td>\n      <td>28.0</td>\n      <td>1</td>\n      <td>1-2 Year</td>\n      <td>No</td>\n      <td>30027.0</td>\n      <td>26.0</td>\n      <td>286</td>\n      <td>0</td>\n    </tr>\n    <tr>\n      <th>3</th>\n      <td>86379</td>\n      <td>Female</td>\n      <td>22</td>\n      <td>1</td>\n      <td>8.0</td>\n      <td>0</td>\n      <td>&lt; 1 Year</td>\n      <td>Yes</td>\n      <td>35039.0</td>\n      <td>152.0</td>\n      <td>180</td>\n      <td>0</td>\n    </tr>\n    <tr>\n      <th>4</th>\n      <td>456843</td>\n      <td>Male</td>\n      <td>24</td>\n      <td>1</td>\n      <td>6.0</td>\n      <td>1</td>\n      <td>&lt; 1 Year</td>\n      <td>No</td>\n      <td>24149.0</td>\n      <td>152.0</td>\n      <td>17</td>\n      <td>0</td>\n    </tr>\n  </tbody>\n</table>\n</div>"
     },
     "execution_count": 5,
     "metadata": {},
     "output_type": "execute_result"
    }
   ],
   "source": [
    "train.head()"
   ],
   "metadata": {
    "collapsed": false,
    "pycharm": {
     "name": "#%%\n"
    }
   }
  },
  {
   "cell_type": "code",
   "execution_count": 6,
   "outputs": [
    {
     "data": {
      "text/plain": "       id  Gender  Age  Driving_License  Region_Code  Previously_Insured  \\\n0  151069    Male   23                1         41.0                   1   \n1  460048  Female   42                1         28.0                   1   \n2  362380    Male   47                1         28.0                   1   \n3  191116    Male   23                1         41.0                   1   \n4  422660    Male   42                1         41.0                   0   \n\n  Vehicle_Age Vehicle_Damage  Annual_Premium  Policy_Sales_Channel  Vintage  \n0    < 1 Year             No         27117.0                 152.0       79  \n1    1-2 Year             No         63230.0                  26.0      287  \n2    1-2 Year            Yes         40571.0                 124.0      265  \n3    < 1 Year             No         28049.0                 152.0      226  \n4   > 2 Years            Yes         32520.0                 124.0      292  ",
      "text/html": "<div>\n<style scoped>\n    .dataframe tbody tr th:only-of-type {\n        vertical-align: middle;\n    }\n\n    .dataframe tbody tr th {\n        vertical-align: top;\n    }\n\n    .dataframe thead th {\n        text-align: right;\n    }\n</style>\n<table border=\"1\" class=\"dataframe\">\n  <thead>\n    <tr style=\"text-align: right;\">\n      <th></th>\n      <th>id</th>\n      <th>Gender</th>\n      <th>Age</th>\n      <th>Driving_License</th>\n      <th>Region_Code</th>\n      <th>Previously_Insured</th>\n      <th>Vehicle_Age</th>\n      <th>Vehicle_Damage</th>\n      <th>Annual_Premium</th>\n      <th>Policy_Sales_Channel</th>\n      <th>Vintage</th>\n    </tr>\n  </thead>\n  <tbody>\n    <tr>\n      <th>0</th>\n      <td>151069</td>\n      <td>Male</td>\n      <td>23</td>\n      <td>1</td>\n      <td>41.0</td>\n      <td>1</td>\n      <td>&lt; 1 Year</td>\n      <td>No</td>\n      <td>27117.0</td>\n      <td>152.0</td>\n      <td>79</td>\n    </tr>\n    <tr>\n      <th>1</th>\n      <td>460048</td>\n      <td>Female</td>\n      <td>42</td>\n      <td>1</td>\n      <td>28.0</td>\n      <td>1</td>\n      <td>1-2 Year</td>\n      <td>No</td>\n      <td>63230.0</td>\n      <td>26.0</td>\n      <td>287</td>\n    </tr>\n    <tr>\n      <th>2</th>\n      <td>362380</td>\n      <td>Male</td>\n      <td>47</td>\n      <td>1</td>\n      <td>28.0</td>\n      <td>1</td>\n      <td>1-2 Year</td>\n      <td>Yes</td>\n      <td>40571.0</td>\n      <td>124.0</td>\n      <td>265</td>\n    </tr>\n    <tr>\n      <th>3</th>\n      <td>191116</td>\n      <td>Male</td>\n      <td>23</td>\n      <td>1</td>\n      <td>41.0</td>\n      <td>1</td>\n      <td>&lt; 1 Year</td>\n      <td>No</td>\n      <td>28049.0</td>\n      <td>152.0</td>\n      <td>226</td>\n    </tr>\n    <tr>\n      <th>4</th>\n      <td>422660</td>\n      <td>Male</td>\n      <td>42</td>\n      <td>1</td>\n      <td>41.0</td>\n      <td>0</td>\n      <td>&gt; 2 Years</td>\n      <td>Yes</td>\n      <td>32520.0</td>\n      <td>124.0</td>\n      <td>292</td>\n    </tr>\n  </tbody>\n</table>\n</div>"
     },
     "execution_count": 6,
     "metadata": {},
     "output_type": "execute_result"
    }
   ],
   "source": [
    "test.head()"
   ],
   "metadata": {
    "collapsed": false,
    "pycharm": {
     "name": "#%%\n"
    }
   }
  },
  {
   "cell_type": "code",
   "execution_count": 7,
   "outputs": [
    {
     "data": {
      "text/plain": "id                      0\nGender                  0\nAge                     0\nDriving_License         0\nRegion_Code             0\nPreviously_Insured      0\nVehicle_Age             0\nVehicle_Damage          0\nAnnual_Premium          0\nPolicy_Sales_Channel    0\nVintage                 0\nResponse                0\ndtype: int64"
     },
     "execution_count": 7,
     "metadata": {},
     "output_type": "execute_result"
    }
   ],
   "source": [
    "train.isna().sum()"
   ],
   "metadata": {
    "collapsed": false,
    "pycharm": {
     "name": "#%%\n"
    }
   }
  },
  {
   "cell_type": "code",
   "execution_count": 8,
   "outputs": [
    {
     "data": {
      "text/plain": "id                      0\nGender                  0\nAge                     0\nDriving_License         0\nRegion_Code             0\nPreviously_Insured      0\nVehicle_Age             0\nVehicle_Damage          0\nAnnual_Premium          0\nPolicy_Sales_Channel    0\nVintage                 0\ndtype: int64"
     },
     "execution_count": 8,
     "metadata": {},
     "output_type": "execute_result"
    }
   ],
   "source": [
    "test.isna().sum()"
   ],
   "metadata": {
    "collapsed": false,
    "pycharm": {
     "name": "#%%\n"
    }
   }
  },
  {
   "cell_type": "code",
   "execution_count": 17,
   "outputs": [
    {
     "name": "stdout",
     "output_type": "stream",
     "text": [
      "['1-2 Year' '< 1 Year' '> 2 Years']\n",
      "[1 0]\n",
      "<class 'pandas.core.frame.DataFrame'>\n",
      "RangeIndex: 229292 entries, 0 to 229291\n",
      "Data columns (total 12 columns):\n",
      " #   Column                Non-Null Count   Dtype  \n",
      "---  ------                --------------   -----  \n",
      " 0   id                    229292 non-null  int64  \n",
      " 1   Gender                229292 non-null  object \n",
      " 2   Age                   229292 non-null  int64  \n",
      " 3   Driving_License       229292 non-null  int64  \n",
      " 4   Region_Code           229292 non-null  float64\n",
      " 5   Previously_Insured    229292 non-null  int64  \n",
      " 6   Vehicle_Age           229292 non-null  object \n",
      " 7   Vehicle_Damage        229292 non-null  object \n",
      " 8   Annual_Premium        229292 non-null  float64\n",
      " 9   Policy_Sales_Channel  229292 non-null  float64\n",
      " 10  Vintage               229292 non-null  int64  \n",
      " 11  Response              229292 non-null  int64  \n",
      "dtypes: float64(3), int64(6), object(3)\n",
      "memory usage: 21.0+ MB\n"
     ]
    }
   ],
   "source": [
    "train.info()"
   ],
   "metadata": {
    "collapsed": false,
    "pycharm": {
     "name": "#%%\n"
    }
   }
  },
  {
   "cell_type": "code",
   "execution_count": 11,
   "outputs": [
    {
     "data": {
      "text/plain": "                  id            Age  Driving_License    Region_Code  \\\ncount  229292.000000  229292.000000    229292.000000  229292.000000   \nmean   234460.942475      38.554987         0.998138      26.420207   \nstd    139490.034283      15.231658         0.043114      13.191474   \nmin         1.000000      20.000000         0.000000       0.000000   \n25%    115085.000000      25.000000         1.000000      15.000000   \n50%    230564.500000      36.000000         1.000000      28.000000   \n75%    345683.500000      49.000000         1.000000      35.000000   \nmax    508144.000000      85.000000         1.000000      52.000000   \n\n       Previously_Insured  Annual_Premium  Policy_Sales_Channel  \\\ncount       229292.000000   229292.000000         229292.000000   \nmean             0.489062    30730.076549            111.923669   \nstd              0.499881    17054.686028             54.308261   \nmin              0.000000     2630.000000              1.000000   \n25%              0.000000    24564.000000             26.000000   \n50%              0.000000    31709.000000            140.000000   \n75%              1.000000    39470.000000            152.000000   \nmax              1.000000   540165.000000            163.000000   \n\n             Vintage       Response  \ncount  229292.000000  229292.000000  \nmean      154.194425       0.164079  \nstd        83.727049       0.370348  \nmin        10.000000       0.000000  \n25%        82.000000       0.000000  \n50%       154.000000       0.000000  \n75%       227.000000       0.000000  \nmax       299.000000       1.000000  ",
      "text/html": "<div>\n<style scoped>\n    .dataframe tbody tr th:only-of-type {\n        vertical-align: middle;\n    }\n\n    .dataframe tbody tr th {\n        vertical-align: top;\n    }\n\n    .dataframe thead th {\n        text-align: right;\n    }\n</style>\n<table border=\"1\" class=\"dataframe\">\n  <thead>\n    <tr style=\"text-align: right;\">\n      <th></th>\n      <th>id</th>\n      <th>Age</th>\n      <th>Driving_License</th>\n      <th>Region_Code</th>\n      <th>Previously_Insured</th>\n      <th>Annual_Premium</th>\n      <th>Policy_Sales_Channel</th>\n      <th>Vintage</th>\n      <th>Response</th>\n    </tr>\n  </thead>\n  <tbody>\n    <tr>\n      <th>count</th>\n      <td>229292.000000</td>\n      <td>229292.000000</td>\n      <td>229292.000000</td>\n      <td>229292.000000</td>\n      <td>229292.000000</td>\n      <td>229292.000000</td>\n      <td>229292.000000</td>\n      <td>229292.000000</td>\n      <td>229292.000000</td>\n    </tr>\n    <tr>\n      <th>mean</th>\n      <td>234460.942475</td>\n      <td>38.554987</td>\n      <td>0.998138</td>\n      <td>26.420207</td>\n      <td>0.489062</td>\n      <td>30730.076549</td>\n      <td>111.923669</td>\n      <td>154.194425</td>\n      <td>0.164079</td>\n    </tr>\n    <tr>\n      <th>std</th>\n      <td>139490.034283</td>\n      <td>15.231658</td>\n      <td>0.043114</td>\n      <td>13.191474</td>\n      <td>0.499881</td>\n      <td>17054.686028</td>\n      <td>54.308261</td>\n      <td>83.727049</td>\n      <td>0.370348</td>\n    </tr>\n    <tr>\n      <th>min</th>\n      <td>1.000000</td>\n      <td>20.000000</td>\n      <td>0.000000</td>\n      <td>0.000000</td>\n      <td>0.000000</td>\n      <td>2630.000000</td>\n      <td>1.000000</td>\n      <td>10.000000</td>\n      <td>0.000000</td>\n    </tr>\n    <tr>\n      <th>25%</th>\n      <td>115085.000000</td>\n      <td>25.000000</td>\n      <td>1.000000</td>\n      <td>15.000000</td>\n      <td>0.000000</td>\n      <td>24564.000000</td>\n      <td>26.000000</td>\n      <td>82.000000</td>\n      <td>0.000000</td>\n    </tr>\n    <tr>\n      <th>50%</th>\n      <td>230564.500000</td>\n      <td>36.000000</td>\n      <td>1.000000</td>\n      <td>28.000000</td>\n      <td>0.000000</td>\n      <td>31709.000000</td>\n      <td>140.000000</td>\n      <td>154.000000</td>\n      <td>0.000000</td>\n    </tr>\n    <tr>\n      <th>75%</th>\n      <td>345683.500000</td>\n      <td>49.000000</td>\n      <td>1.000000</td>\n      <td>35.000000</td>\n      <td>1.000000</td>\n      <td>39470.000000</td>\n      <td>152.000000</td>\n      <td>227.000000</td>\n      <td>0.000000</td>\n    </tr>\n    <tr>\n      <th>max</th>\n      <td>508144.000000</td>\n      <td>85.000000</td>\n      <td>1.000000</td>\n      <td>52.000000</td>\n      <td>1.000000</td>\n      <td>540165.000000</td>\n      <td>163.000000</td>\n      <td>299.000000</td>\n      <td>1.000000</td>\n    </tr>\n  </tbody>\n</table>\n</div>"
     },
     "execution_count": 11,
     "metadata": {},
     "output_type": "execute_result"
    }
   ],
   "source": [
    "train.describe()"
   ],
   "metadata": {
    "collapsed": false,
    "pycharm": {
     "name": "#%%\n"
    }
   }
  },
  {
   "cell_type": "code",
   "execution_count": 90,
   "outputs": [
    {
     "data": {
      "text/plain": "            id  Gender       Age  Driving_License  Region_Code  \\\n0       151069       1 -1.020500                1     1.109928   \n1       460048       0  0.227879                1     0.122525   \n2       362380       1  0.556399                1     0.122525   \n3       191116       1 -1.020500                1     1.109928   \n4       422660       1  0.227879                1     1.109928   \n...        ...     ...       ...              ...          ...   \n152857  368806       1  0.227879                1     0.654203   \n152858   55749       0 -1.020500                1     0.426341   \n152859  112077       0 -0.494867                1     0.198479   \n152860  443675       0 -1.086204                1     0.198479   \n152861  444659       1  0.556399                1    -1.016787   \n\n        Previously_Insured  Vehicle_Age  Vehicle_Damage  Annual_Premium  \\\n0                        1            0               0       -0.208885   \n1                        1            3               0        1.906461   \n2                        1            3               1        0.579193   \n3                        1            0               0       -0.154292   \n4                        0            4               1        0.107600   \n...                    ...          ...             ...             ...   \n152857                   1            3               1       -0.158568   \n152858                   1            0               0       -0.287376   \n152859                   1            0               0       -1.643229   \n152860                   1            0               0        1.319063   \n152861                   0            3               1        0.141984   \n\n        Policy_Sales_Channel   Vintage  \n0                   0.737938 -0.897725  \n1                  -1.584478  1.585941  \n2                   0.221845  1.323245  \n3                   0.737938  0.857558  \n4                   0.221845  1.645644  \n...                      ...       ...  \n152857              0.221845  1.466534  \n152858              0.737938  1.502356  \n152859              0.737938  0.654566  \n152860              0.737938  0.833676  \n152861             -1.602909  1.526237  \n\n[152862 rows x 11 columns]",
      "text/html": "<div>\n<style scoped>\n    .dataframe tbody tr th:only-of-type {\n        vertical-align: middle;\n    }\n\n    .dataframe tbody tr th {\n        vertical-align: top;\n    }\n\n    .dataframe thead th {\n        text-align: right;\n    }\n</style>\n<table border=\"1\" class=\"dataframe\">\n  <thead>\n    <tr style=\"text-align: right;\">\n      <th></th>\n      <th>id</th>\n      <th>Gender</th>\n      <th>Age</th>\n      <th>Driving_License</th>\n      <th>Region_Code</th>\n      <th>Previously_Insured</th>\n      <th>Vehicle_Age</th>\n      <th>Vehicle_Damage</th>\n      <th>Annual_Premium</th>\n      <th>Policy_Sales_Channel</th>\n      <th>Vintage</th>\n    </tr>\n  </thead>\n  <tbody>\n    <tr>\n      <th>0</th>\n      <td>151069</td>\n      <td>1</td>\n      <td>-1.020500</td>\n      <td>1</td>\n      <td>1.109928</td>\n      <td>1</td>\n      <td>0</td>\n      <td>0</td>\n      <td>-0.208885</td>\n      <td>0.737938</td>\n      <td>-0.897725</td>\n    </tr>\n    <tr>\n      <th>1</th>\n      <td>460048</td>\n      <td>0</td>\n      <td>0.227879</td>\n      <td>1</td>\n      <td>0.122525</td>\n      <td>1</td>\n      <td>3</td>\n      <td>0</td>\n      <td>1.906461</td>\n      <td>-1.584478</td>\n      <td>1.585941</td>\n    </tr>\n    <tr>\n      <th>2</th>\n      <td>362380</td>\n      <td>1</td>\n      <td>0.556399</td>\n      <td>1</td>\n      <td>0.122525</td>\n      <td>1</td>\n      <td>3</td>\n      <td>1</td>\n      <td>0.579193</td>\n      <td>0.221845</td>\n      <td>1.323245</td>\n    </tr>\n    <tr>\n      <th>3</th>\n      <td>191116</td>\n      <td>1</td>\n      <td>-1.020500</td>\n      <td>1</td>\n      <td>1.109928</td>\n      <td>1</td>\n      <td>0</td>\n      <td>0</td>\n      <td>-0.154292</td>\n      <td>0.737938</td>\n      <td>0.857558</td>\n    </tr>\n    <tr>\n      <th>4</th>\n      <td>422660</td>\n      <td>1</td>\n      <td>0.227879</td>\n      <td>1</td>\n      <td>1.109928</td>\n      <td>0</td>\n      <td>4</td>\n      <td>1</td>\n      <td>0.107600</td>\n      <td>0.221845</td>\n      <td>1.645644</td>\n    </tr>\n    <tr>\n      <th>...</th>\n      <td>...</td>\n      <td>...</td>\n      <td>...</td>\n      <td>...</td>\n      <td>...</td>\n      <td>...</td>\n      <td>...</td>\n      <td>...</td>\n      <td>...</td>\n      <td>...</td>\n      <td>...</td>\n    </tr>\n    <tr>\n      <th>152857</th>\n      <td>368806</td>\n      <td>1</td>\n      <td>0.227879</td>\n      <td>1</td>\n      <td>0.654203</td>\n      <td>1</td>\n      <td>3</td>\n      <td>1</td>\n      <td>-0.158568</td>\n      <td>0.221845</td>\n      <td>1.466534</td>\n    </tr>\n    <tr>\n      <th>152858</th>\n      <td>55749</td>\n      <td>0</td>\n      <td>-1.020500</td>\n      <td>1</td>\n      <td>0.426341</td>\n      <td>1</td>\n      <td>0</td>\n      <td>0</td>\n      <td>-0.287376</td>\n      <td>0.737938</td>\n      <td>1.502356</td>\n    </tr>\n    <tr>\n      <th>152859</th>\n      <td>112077</td>\n      <td>0</td>\n      <td>-0.494867</td>\n      <td>1</td>\n      <td>0.198479</td>\n      <td>1</td>\n      <td>0</td>\n      <td>0</td>\n      <td>-1.643229</td>\n      <td>0.737938</td>\n      <td>0.654566</td>\n    </tr>\n    <tr>\n      <th>152860</th>\n      <td>443675</td>\n      <td>0</td>\n      <td>-1.086204</td>\n      <td>1</td>\n      <td>0.198479</td>\n      <td>1</td>\n      <td>0</td>\n      <td>0</td>\n      <td>1.319063</td>\n      <td>0.737938</td>\n      <td>0.833676</td>\n    </tr>\n    <tr>\n      <th>152861</th>\n      <td>444659</td>\n      <td>1</td>\n      <td>0.556399</td>\n      <td>1</td>\n      <td>-1.016787</td>\n      <td>0</td>\n      <td>3</td>\n      <td>1</td>\n      <td>0.141984</td>\n      <td>-1.602909</td>\n      <td>1.526237</td>\n    </tr>\n  </tbody>\n</table>\n<p>152862 rows × 11 columns</p>\n</div>"
     },
     "execution_count": 90,
     "metadata": {},
     "output_type": "execute_result"
    }
   ],
   "source": [
    "df = test.copy()\n",
    "\n",
    "le = LabelEncoder()\n",
    "# transformer = MinMaxScaler()\n",
    "transformer = StandardScaler()\n",
    "\n",
    "df['Gender'] = le.fit_transform(df['Gender'])\n",
    "df['Age'] = transformer.fit_transform(df[['Age']])\n",
    "df['Region_Code'] = transformer.fit_transform(df[['Region_Code']])\n",
    "df['Annual_Premium'] = transformer.fit_transform(df[['Annual_Premium']])\n",
    "df['Policy_Sales_Channel'] = transformer.fit_transform(df[['Policy_Sales_Channel']])\n",
    "df['Vintage'] = transformer.fit_transform(df[['Vintage']])\n",
    "\n",
    "# df['Vehicle_Age'] = le.fit_transform(df['Vehicle_Age'])\n",
    "df['Vehicle_Age'] = df['Vehicle_Age'].replace({'< 1 Year': 0,'1-2 Year': 3, '> 2 Years': 4})\n",
    "\n",
    "df['Vehicle_Damage'] = le.fit_transform(df['Vehicle_Damage'])\n",
    "\n",
    "df"
   ],
   "metadata": {
    "collapsed": false,
    "pycharm": {
     "name": "#%%\n"
    }
   }
  },
  {
   "cell_type": "code",
   "execution_count": 80,
   "outputs": [
    {
     "data": {
      "text/plain": "<Figure size 1080x720 with 1 Axes>",
      "image/png": "[encoded data removed]"
     },
     "metadata": {
      "needs_background": "light"
     },
     "output_type": "display_data"
    }
   ],
   "source": [
    "plt.figure(figsize=(15, 10))\n",
    "x = df[['Age', 'Gender', 'Driving_License', 'Region_Code',\n",
    "      'Previously_Insured', 'Vehicle_Age', 'Vehicle_Damage',\n",
    "      'Annual_Premium', 'Policy_Sales_Channel', 'Vintage']]\n",
    "\n",
    "y = df['Response']\n",
    "y.hist()\n",
    "plt.show()"
   ],
   "metadata": {
    "collapsed": false,
    "pycharm": {
     "name": "#%%\n"
    }
   }
  },
  {
   "cell_type": "code",
   "execution_count": 87,
   "outputs": [
    {
     "data": {
      "text/plain": "<Figure size 720x504 with 1 Axes>",
      "image/png": "[encoded data removed]"
     },
     "metadata": {
      "needs_background": "light"
     },
     "output_type": "display_data"
    }
   ],
   "source": [
    "# dt_imputer = DecisionTreeClassifier()\n",
    "# knn_imputer = KNeighborsClassifier()\n",
    "# lr_imputer = LogisticRegression()\n",
    "\n",
    "rfc_imputer = RandomForestClassifier(max_depth=7, random_state=0)\n",
    "\n",
    "x_train, x_test, y_train, y_test = train_test_split(x, y, train_size=0.8, random_state=70)\n",
    "# inputed_df = knn_imputer.fit(x_train, y_train)\n",
    "# inputed_df_lr = lr_imputer.fit(x_train, y_train)\n",
    "# inputed_df_dt = dt_imputer.fit(x_train, y_train)\n",
    "\n",
    "inputed_rfc = rfc_imputer.fit(x_train, y_train)\n",
    "\n",
    "y_train_predicted_lr = inputed_rfc.predict_proba(x_train)[:, 1]\n",
    "y_val_predicted_lr = inputed_rfc.predict_proba(x_test)[:, 1]\n",
    "\n",
    "def roc_auc_plot(y_train, y_train_predicted, y_val, y_val_predicted):\n",
    "    train_auc = roc_auc_score(y_train, y_train_predicted)\n",
    "    test_auc = roc_auc_score(y_val, y_val_predicted)\n",
    "\n",
    "    plt.figure(figsize=(10,7))\n",
    "    plt.plot(*roc_curve(y_train, y_train_predicted)[:2], label='train AUC={:.4f}'.format(train_auc))\n",
    "    plt.plot(*roc_curve(y_val, y_val_predicted)[:2], label='test AUC={:.4f}'.format(test_auc))\n",
    "    legend_box = plt.legend(fontsize='large', framealpha=1).get_frame()\n",
    "    legend_box.set_facecolor(\"white\")\n",
    "    legend_box.set_edgecolor(\"black\")\n",
    "    plt.plot(np.linspace(0,1,100), np.linspace(0,1,100))\n",
    "    plt.show()\n",
    "\n",
    "roc_auc_plot(y_train, y_train_predicted_lr, y_test, y_val_predicted_lr)"
   ],
   "metadata": {
    "collapsed": false,
    "pycharm": {
     "name": "#%%\n"
    }
   }
  },
  {
   "cell_type": "code",
   "execution_count": 91,
   "outputs": [
    {
     "data": {
      "text/plain": "            id  Response\n0       151069  0.000409\n1       460048  0.003717\n2       362380  0.090821\n3       191116  0.000378\n4       422660  0.443771\n...        ...       ...\n152857  368806  0.086836\n152858   55749  0.000495\n152859  112077  0.000484\n152860  443675  0.000299\n152861  444659  0.457892\n\n[152862 rows x 2 columns]",
      "text/html": "<div>\n<style scoped>\n    .dataframe tbody tr th:only-of-type {\n        vertical-align: middle;\n    }\n\n    .dataframe tbody tr th {\n        vertical-align: top;\n    }\n\n    .dataframe thead th {\n        text-align: right;\n    }\n</style>\n<table border=\"1\" class=\"dataframe\">\n  <thead>\n    <tr style=\"text-align: right;\">\n      <th></th>\n      <th>id</th>\n      <th>Response</th>\n    </tr>\n  </thead>\n  <tbody>\n    <tr>\n      <th>0</th>\n      <td>151069</td>\n      <td>0.000409</td>\n    </tr>\n    <tr>\n      <th>1</th>\n      <td>460048</td>\n      <td>0.003717</td>\n    </tr>\n    <tr>\n      <th>2</th>\n      <td>362380</td>\n      <td>0.090821</td>\n    </tr>\n    <tr>\n      <th>3</th>\n      <td>191116</td>\n      <td>0.000378</td>\n    </tr>\n    <tr>\n      <th>4</th>\n      <td>422660</td>\n      <td>0.443771</td>\n    </tr>\n    <tr>\n      <th>...</th>\n      <td>...</td>\n      <td>...</td>\n    </tr>\n    <tr>\n      <th>152857</th>\n      <td>368806</td>\n      <td>0.086836</td>\n    </tr>\n    <tr>\n      <th>152858</th>\n      <td>55749</td>\n      <td>0.000495</td>\n    </tr>\n    <tr>\n      <th>152859</th>\n      <td>112077</td>\n      <td>0.000484</td>\n    </tr>\n    <tr>\n      <th>152860</th>\n      <td>443675</td>\n      <td>0.000299</td>\n    </tr>\n    <tr>\n      <th>152861</th>\n      <td>444659</td>\n      <td>0.457892</td>\n    </tr>\n  </tbody>\n</table>\n<p>152862 rows × 2 columns</p>\n</div>"
     },
     "execution_count": 91,
     "metadata": {},
     "output_type": "execute_result"
    }
   ],
   "source": [
    "test_id = df['id']\n",
    "test = df[['Age', 'Gender', 'Driving_License', 'Region_Code',\n",
    "      'Previously_Insured', 'Vehicle_Age', 'Vehicle_Damage',\n",
    "      'Annual_Premium', 'Policy_Sales_Channel', 'Vintage']]\n",
    "\n",
    "y_test_predicted_lr = rfc_imputer.predict_proba(test)[:, 1]\n",
    "\n",
    "def create_submission(id_col, y_pred):\n",
    "    submission = pd.DataFrame({\n",
    "        'id': id_col,\n",
    "        'Response': y_pred\n",
    "    })\n",
    "    return submission\n",
    "\n",
    "sub = create_submission(test_id, y_test_predicted_lr)\n",
    "sub"
   ],
   "metadata": {
    "collapsed": false,
    "pycharm": {
     "name": "#%%\n"
    }
   }
  },
  {
   "cell_type": "code",
   "execution_count": 92,
   "outputs": [],
   "source": [
    "sub.to_csv(\"sub.csv\", index=False)"
   ],
   "metadata": {
    "collapsed": false,
    "pycharm": {
     "name": "#%%\n"
    }
   }
  }
 ],
 "metadata": {
  "kernelspec": {
   "display_name": "Python 3",
   "language": "python",
   "name": "python3"
  },
  "language_info": {
   "codemirror_mode": {
    "name": "ipython",
    "version": 3
   },
   "file_extension": ".py",
   "mimetype": "text/x-python",
   "name": "python",
   "nbconvert_exporter": "python",
   "pygments_lexer": "ipython3",
   "version": "3.9.4"
  }
 },
 "nbformat": 4,
 "nbformat_minor": 1
}